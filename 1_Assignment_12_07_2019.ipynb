{
 "cells": [
  {
   "cell_type": "code",
   "execution_count": 12,
   "metadata": {},
   "outputs": [
    {
     "name": "stdout",
     "output_type": "stream",
     "text": [
      "Task 1 \n",
      "\n",
      "2.Write a program which will find all such numbers which are divisible by 7 but are not a multiple of 5, between 2000 and 3200 (both included). The numbers obtained should be printed in a comma-separated sequence on a single line\n",
      "\n",
      "Final output is: \n",
      "\n",
      "2002,2009,2016,2023,2037,2044,2051,2058,2072,2079,2086,2093,2107,2114,2121,2128,2142,2149,2156,2163,2177,2184,2191,2198,2212,2219,2226,2233,2247,2254,2261,2268,2282,2289,2296,2303,2317,2324,2331,2338,2352,2359,2366,2373,2387,2394,2401,2408,2422,2429,2436,2443,2457,2464,2471,2478,2492,2499,2506,2513,2527,2534,2541,2548,2562,2569,2576,2583,2597,2604,2611,2618,2632,2639,2646,2653,2667,2674,2681,2688,2702,2709,2716,2723,2737,2744,2751,2758,2772,2779,2786,2793,2807,2814,2821,2828,2842,2849,2856,2863,2877,2884,2891,2898,2912,2919,2926,2933,2947,2954,2961,2968,2982,2989,2996,3003,3017,3024,3031,3038,3052,3059,3066,3073,3087,3094,3101,3108,3122,3129,3136,3143,3157,3164,3171,3178,3192,3199\n"
     ]
    }
   ],
   "source": [
    "print(\"Task 1 \\n\\n2.Write a program which will find all such numbers which are divisible by 7 but are not a multiple of 5, between 2000 and 3200 (both included). The numbers obtained should be printed in a comma-separated sequence on a single line\")\n",
    "listOfNumbers = []\n",
    "for eachNumber in range(2000,3200):\n",
    "    if (eachNumber%7==0) and (eachNumber%5!=0):\n",
    "        listOfNumbers.append(str(eachNumber))\n",
    "print(\"\\nFinal output is: \\n\")        \n",
    "print(\",\".join(listOfNumbers))\n",
    "    "
   ]
  },
  {
   "cell_type": "code",
   "execution_count": 11,
   "metadata": {},
   "outputs": [
    {
     "name": "stdout",
     "output_type": "stream",
     "text": [
      "3. Write a Python program to accept the user's first and last name and then getting them printed in the the reverse order with a space between first name and last name. \n",
      "\n",
      "Please Enter First Name:Saiprasad\n",
      "Please Enter Last Name:Jonnala\n",
      "\n",
      "Final Output is : Jonnala Saiprasad\n"
     ]
    }
   ],
   "source": [
    "print(\"3. Write a Python program to accept the user's first and last name and then getting them printed in the the reverse order with a space between first name and last name. \\n\")\n",
    "firstName = input(\"Please Enter First Name:\")\n",
    "lastName = input(\"Please Enter Last Name:\")\n",
    "print(\"\\nFinal Output is : \"+lastName+\" \"+firstName)"
   ]
  },
  {
   "cell_type": "code",
   "execution_count": 20,
   "metadata": {},
   "outputs": [
    {
     "name": "stdout",
     "output_type": "stream",
     "text": [
      "4. Write a Python program to find the volume of a sphere with diameter 12 cm. \n",
      "\n",
      "\n",
      "Volume Of Sphere : 904.3199999999998\n"
     ]
    }
   ],
   "source": [
    "print(\"4. Write a Python program to find the volume of a sphere with diameter 12 cm. \\n\")\n",
    "\n",
    "valueOfPi = 3.14\n",
    "diameterOfSphere = 12\n",
    "volumeOfSphere=1/6*valueOfPi*diameterOfSphere*diameterOfSphere*diameterOfSphere\n",
    "print(\"\\nVolume Of Sphere : \"+str(voulmeOfSphere))\n",
    "\n"
   ]
  },
  {
   "cell_type": "code",
   "execution_count": 6,
   "metadata": {},
   "outputs": [
    {
     "name": "stdout",
     "output_type": "stream",
     "text": [
      "Task 2 \n",
      "\n",
      "1.Write a program which accepts a sequence of comma-separated numbers from console and generate a list. \n",
      "Please Enter Comma Separated Numbers:2,354,656,23,56,225,6,,8,\n",
      "\n",
      "Final Output is : ['2', '354', '656', '23', '56', '225', '6', '', '8', '']\n"
     ]
    }
   ],
   "source": [
    "print(\"Task 2 \\n\\n1.Write a program which accepts a sequence of comma-separated numbers from console and generate a list. \")\n",
    "numbersAsInput = input(\"Please Enter Comma Separated Numbers:\")\n",
    "listOfNumbers = numbersAsInput.split(\",\")\n",
    "print(\"\\nFinal Output is :\",listOfNumbers)"
   ]
  },
  {
   "cell_type": "code",
   "execution_count": 13,
   "metadata": {},
   "outputs": [
    {
     "name": "stdout",
     "output_type": "stream",
     "text": [
      "\n",
      "2.Create the below pattern using nested for loop in Python\n",
      "\n",
      "*\n",
      "**\n",
      "***\n",
      "****\n",
      "*****\n",
      "****\n",
      "***\n",
      "**\n",
      "*\n"
     ]
    }
   ],
   "source": [
    "print(\"\\n2.Create the below pattern using nested for loop in Python\")\n",
    "maxStarsCount = 5\n",
    "\n",
    "for currentCount in range(maxStarsCount):\n",
    "    for newCurrentCount in range(currentCount):\n",
    "                print(\"*\",end=\"\")\n",
    "    print(\"\")\n",
    "\n",
    "for currentCount in range(maxStarsCount,0,-1):\n",
    "    for newCurrentCount in range(currentCount):\n",
    "                print(\"*\",end=\"\")\n",
    "    print(\"\")\n"
   ]
  },
  {
   "cell_type": "code",
   "execution_count": 2,
   "metadata": {},
   "outputs": [
    {
     "name": "stdout",
     "output_type": "stream",
     "text": [
      "\n",
      "3.Write a Python program to reverse a word after accepting the input from the user.\n",
      "\n",
      "Please Enter The Word To Be Reversed:Saiprasad Jonnala\n",
      "alannoJ dasarpiaS"
     ]
    }
   ],
   "source": [
    "print(\"\\n3.Write a Python program to reverse a word after accepting the input from the user.\\n\")\n",
    "givenWord = input(\"Please Enter The Word To Be Reversed:\")\n",
    "\n",
    "for eachLetter in range(len(givenWord)-1,-1,-1):\n",
    "    print(givenWord[eachLetter],end=\"\")\n"
   ]
  },
  {
   "cell_type": "code",
   "execution_count": 16,
   "metadata": {},
   "outputs": [
    {
     "name": "stdout",
     "output_type": "stream",
     "text": [
      "\n",
      "4.  Write a Python Program to print the given string in the format specified in the \n",
      "sample output. WE, THE PEOPLE OF INDIA, having solemnly resolved to constitute India into a SOVEREIGN, SOCIALIST, SECULAR, DEMOCRATIC REPUBLIC and to secure to all its citizens \n",
      "\n",
      "\n",
      "\n",
      "  WE, THE PEOPLE OF INDIA,\n",
      "\thaving  solemnly resolved to constitute India into a SOVEREIGN, !\n",
      "\t\tSOCIALIST, SECULAR, DEMOCRATIC REPUBLIC\n",
      "\t\t and to secure to all its citizens\n"
     ]
    }
   ],
   "source": [
    "print(\"\\n4.  Write a Python Program to print the given string in the format specified in the \\nsample output. WE, THE PEOPLE OF INDIA, having solemnly resolved to constitute India into a SOVEREIGN, SOCIALIST, SECULAR, DEMOCRATIC REPUBLIC and to secure to all its citizens \\n\\n\")\n",
    "print(\"\\n  WE, THE PEOPLE OF INDIA,\\n\\thaving  solemnly resolved to constitute India into a SOVEREIGN, !\\n\\t\\tSOCIALIST, SECULAR, DEMOCRATIC REPUBLIC\\n\\t\\t and to secure to all its citizens\")      "
   ]
  },
  {
   "cell_type": "code",
   "execution_count": null,
   "metadata": {},
   "outputs": [],
   "source": []
  }
 ],
 "metadata": {
  "kernelspec": {
   "display_name": "Python 3",
   "language": "python",
   "name": "python3"
  },
  "language_info": {
   "codemirror_mode": {
    "name": "ipython",
    "version": 3
   },
   "file_extension": ".py",
   "mimetype": "text/x-python",
   "name": "python",
   "nbconvert_exporter": "python",
   "pygments_lexer": "ipython3",
   "version": "3.7.4"
  }
 },
 "nbformat": 4,
 "nbformat_minor": 2
}
